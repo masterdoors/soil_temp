{
 "cells": [
  {
   "cell_type": "code",
   "execution_count": 1,
   "id": "d40ac09f-9a16-42da-a436-649b3a8f5959",
   "metadata": {},
   "outputs": [
    {
     "name": "stdout",
     "output_type": "stream",
     "text": [
      "Клонирование в «A-new-Adaptive-Weighted-Deep-Forest-and-Its-Modifications»...\n",
      "remote: Enumerating objects: 55, done.\u001b[K\n",
      "remote: Counting objects: 100% (55/55), done.\u001b[K\n",
      "remote: Compressing objects: 100% (45/45), done.\u001b[K\n",
      "remote: Total 55 (delta 9), reused 55 (delta 9), pack-reused 0 (from 0)\u001b[K\n",
      "Получение объектов: 100% (55/55), 55.66 КиБ | 331.00 КиБ/с, готово.\n",
      "Определение изменений: 100% (9/9), готово.\n"
     ]
    }
   ],
   "source": [
    "!git clone https://github.com/andruekonst/A-new-Adaptive-Weighted-Deep-Forest-and-Its-Modifications.git"
   ]
  },
  {
   "cell_type": "code",
   "execution_count": null,
   "id": "dd8293ad-4744-438f-a61a-c40117e57783",
   "metadata": {},
   "outputs": [],
   "source": []
  }
 ],
 "metadata": {
  "kernelspec": {
   "display_name": "Python 3 (ipykernel)",
   "language": "python",
   "name": "python3"
  },
  "language_info": {
   "codemirror_mode": {
    "name": "ipython",
    "version": 3
   },
   "file_extension": ".py",
   "mimetype": "text/x-python",
   "name": "python",
   "nbconvert_exporter": "python",
   "pygments_lexer": "ipython3",
   "version": "3.9.13"
  }
 },
 "nbformat": 4,
 "nbformat_minor": 5
}
