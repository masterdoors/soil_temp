{
 "cells": [
  {
   "cell_type": "code",
   "execution_count": 5,
   "id": "b8bbb518-075c-436f-ad44-638759e5f1f4",
   "metadata": {},
   "outputs": [],
   "source": [
    "from boosted_forest import CascadeBoostingRegressor\n",
    "from sklearn.model_selection import train_test_split\n",
    "from sklearn.metrics import root_mean_squared_error\n",
    "\n",
    "import numpy as np\n",
    "\n",
    "from sklearn import datasets\n",
    "\n",
    "diabetes = datasets.load_diabetes()\n",
    "X, y = diabetes.data, diabetes.target\n",
    "\n",
    "x_train, x_test, y_train, y_test = train_test_split(X, y, test_size=0.3,random_state=42)\n",
    "\n",
    "data = []\n",
    "for hidden_size in [1,3,5,10,20,30,40,50,60,70,80,90,100]:\n",
    "    reg = CascadeBoostingRegressor(C=1183, n_layers=14, n_estimators = 1, max_depth=2, n_iter_no_change = 1, validation_fraction = 0.1, learning_rate = 0.9,hidden_size = hidden_size)\n",
    "    \n",
    "    reg.fit(x_train,y_train)\n",
    "    \n",
    "    y_pred = reg.predict(x_test) #, batch_size=batch_size)\n",
    "    score_test = root_mean_squared_error(y_test.flatten(),y_pred.flatten())\n",
    "\n",
    "    y_pred = reg.predict(x_train) #, batch_size=batch_size)\n",
    "    score_train = root_mean_squared_error(y_train.flatten(),y_pred.flatten())\n",
    "    \n",
    "    data.append([hidden_size,score_train,score_test])\n",
    "\n",
    "import pandas as pd\n",
    "\n",
    "df = pd.DataFrame(data)\n"
   ]
  },
  {
   "cell_type": "code",
   "execution_count": 7,
   "id": "e44d7dba-4258-4974-8e84-40998091f4b4",
   "metadata": {},
   "outputs": [],
   "source": [
    "df.to_csv(\"hidden_size.csv\",sep=\";\")"
   ]
  },
  {
   "cell_type": "code",
   "execution_count": null,
   "id": "861005c4-cb4b-48bd-b628-f027159dc6a7",
   "metadata": {},
   "outputs": [],
   "source": []
  }
 ],
 "metadata": {
  "kernelspec": {
   "display_name": "Python 3 (ipykernel)",
   "language": "python",
   "name": "python3"
  },
  "language_info": {
   "codemirror_mode": {
    "name": "ipython",
    "version": 3
   },
   "file_extension": ".py",
   "mimetype": "text/x-python",
   "name": "python",
   "nbconvert_exporter": "python",
   "pygments_lexer": "ipython3",
   "version": "3.9.13"
  }
 },
 "nbformat": 4,
 "nbformat_minor": 5
}
