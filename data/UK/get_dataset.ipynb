{
 "cells": [
  {
   "cell_type": "code",
   "execution_count": null,
   "id": "2a223570-7380-43b2-a096-512ff8467bb9",
   "metadata": {},
   "outputs": [],
   "source": [
    "!wget --recursive --no-parent https://catalogue.ceh.ac.uk/datastore/eidchub/5060cc27-0b5b-471b-86eb-71f96da0c80f/"
   ]
  },
  {
   "cell_type": "code",
   "execution_count": null,
   "id": "693eaab5-d725-4781-969d-311aca7db71d",
   "metadata": {},
   "outputs": [],
   "source": []
  }
 ],
 "metadata": {
  "kernelspec": {
   "display_name": "Python 3 (ipykernel)",
   "language": "python",
   "name": "python3"
  },
  "language_info": {
   "codemirror_mode": {
    "name": "ipython",
    "version": 3
   },
   "file_extension": ".py",
   "mimetype": "text/x-python",
   "name": "python",
   "nbconvert_exporter": "python",
   "pygments_lexer": "ipython3",
   "version": "3.9.13"
  }
 },
 "nbformat": 4,
 "nbformat_minor": 5
}
