{
 "cells": [
  {
   "cell_type": "code",
   "execution_count": null,
   "id": "2a223570-7380-43b2-a096-512ff8467bb9",
   "metadata": {},
   "outputs": [],
   "source": [
    "!wget --recursive --no-parent https://catalogue.ceh.ac.uk/datastore/eidchub/399ed9b1-bf59-4d85-9832-ee4d29f49bfb/"
   ]
  },
  {
   "cell_type": "code",
   "execution_count": null,
   "id": "693eaab5-d725-4781-969d-311aca7db71d",
   "metadata": {},
   "outputs": [],
   "source": []
  }
 ],
 "metadata": {
  "kernelspec": {
   "display_name": "Python 3 (ipykernel)",
   "language": "python",
   "name": "python3"
  },
  "language_info": {
   "codemirror_mode": {
    "name": "ipython",
    "version": 3
   },
   "file_extension": ".py",
   "mimetype": "text/x-python",
   "name": "python",
   "nbconvert_exporter": "python",
   "pygments_lexer": "ipython3",
   "version": "3.9.13"
  }
 },
 "nbformat": 4,
 "nbformat_minor": 5
}
