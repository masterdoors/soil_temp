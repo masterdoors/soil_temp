{
 "cells": [
  {
   "cell_type": "code",
   "execution_count": 1,
   "id": "2a223570-7380-43b2-a096-512ff8467bb9",
   "metadata": {},
   "outputs": [
    {
     "name": "stdout",
     "output_type": "stream",
     "text": [
      "--2024-08-20 17:53:03--  https://catalogue.ceh.ac.uk/datastore/eidchub/5060cc27-0b5b-471b-86eb-71f96da0c80f/\n",
      "Распознаётся catalogue.ceh.ac.uk (catalogue.ceh.ac.uk)… 192.171.173.174\n",
      "Подключение к catalogue.ceh.ac.uk (catalogue.ceh.ac.uk)|192.171.173.174|:443... соединение установлено.\n",
      "HTTP-запрос отправлен. Ожидание ответа… 404 \n",
      "2024-08-20 17:53:03 ОШИБКА 404: (нет описания).\n",
      "\n"
     ]
    }
   ],
   "source": [
    "!wget --recursive --no-parent https://catalogue.ceh.ac.uk/datastore/eidchub/399ed9b1-bf59-4d85-9832-ee4d29f49bfb/"
   ]
  },
  {
   "cell_type": "code",
   "execution_count": null,
   "id": "693eaab5-d725-4781-969d-311aca7db71d",
   "metadata": {},
   "outputs": [],
   "source": []
  }
 ],
 "metadata": {
  "kernelspec": {
   "display_name": "Python 3 (ipykernel)",
   "language": "python",
   "name": "python3"
  },
  "language_info": {
   "codemirror_mode": {
    "name": "ipython",
    "version": 3
   },
   "file_extension": ".py",
   "mimetype": "text/x-python",
   "name": "python",
   "nbconvert_exporter": "python",
   "pygments_lexer": "ipython3",
   "version": "3.9.13"
  }
 },
 "nbformat": 4,
 "nbformat_minor": 5
}
